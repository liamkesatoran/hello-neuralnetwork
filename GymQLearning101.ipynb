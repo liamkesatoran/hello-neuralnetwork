{
 "cells": [
  {
   "cell_type": "code",
   "execution_count": 1,
   "metadata": {},
   "outputs": [],
   "source": [
    "import gym\n",
    "import random\n",
    "import numpy as np\n",
    "import time\n",
    "from gym.envs.registration import register\n",
    "from IPython.display import clear_output\n"
   ]
  },
  {
   "cell_type": "code",
   "execution_count": 2,
   "metadata": {},
   "outputs": [],
   "source": [
    "# env_name = \"CartPole-v1\"\n",
    "# env_name = \"Acrobot-v1\"\n",
    "# env_name = \"MountainCar-v0\"\n",
    "# env_name = \"MountainCarContinuous-v0\"\n",
    "try:\n",
    "    register(\n",
    "        id='FrozenLakeNoSlip-v0',\n",
    "        entry_point='gym.envs.toy_text:FrozenLakeEnv',\n",
    "        kwargs={'map_name' : '4x4', 'is_slippery':False},\n",
    "        max_episode_steps=100,\n",
    "        reward_threshold=0.78, # optimum = .8196\n",
    "    )\n",
    "except:\n",
    "    pass\n",
    "env_name = \"FrozenLake-v0\"\n",
    "env_name = \"FrozenLakeNoSlip-v0\"\n",
    "#env_name = \"FrozenLakeNoSlip-v0\"\n",
    "env = gym.make(env_name)"
   ]
  },
  {
   "cell_type": "code",
   "execution_count": 3,
   "metadata": {},
   "outputs": [],
   "source": [
    "class Agent():\n",
    "    def __init__(self,env):\n",
    "        self.is_discrete = type(env.action_space)==gym.spaces.discrete.Discrete\n",
    "        if self.is_discrete:\n",
    "            self.action_size = env.action_space.n\n",
    "            print(\"Action size:\", self.action_size)\n",
    "        else:\n",
    "            self.action_low = env.action_space.low\n",
    "            self.action_high = env.action_space.high\n",
    "            self.action_shape = env.action_space.shape\n",
    "            print(\"Action range:\", self.action_low, self.action_high)\n",
    "    def get_random_action(self,state):\n",
    "        if self.is_discrete:\n",
    "            action = random.choice(range(self.action_size))\n",
    "        else:\n",
    "            action = np.random.uniform(self.action_low, \\\n",
    "                                       self.action_high, self.action_shape)\n",
    "        # pole_angle= state[2]\n",
    "        # action = 0 if pole_angle < 0 else 1\n",
    "        return action"
   ]
  },
  {
   "cell_type": "code",
   "execution_count": 4,
   "metadata": {},
   "outputs": [
    {
     "name": "stdout",
     "output_type": "stream",
     "text": [
      "Action size: 4\n",
      "State size: 16\n"
     ]
    }
   ],
   "source": [
    "class QAgent(Agent):\n",
    "    def __init__(self,env, discount_rate =0.97, learning_rate=0.01):\n",
    "        super().__init__(env)\n",
    "        self.state_size = env.observation_space.n\n",
    "        print(\"State size:\", self.state_size)\n",
    "        self.eps =1.0\n",
    "        self.discount_rate = discount_rate\n",
    "        self.learning_rate = learning_rate\n",
    "        self.build_model()\n",
    "\n",
    "    def build_model(self):\n",
    "        self.q_table = 1e-4*np.random.random([self.state_size, self.action_size]) \n",
    "        #States are rows and actions are columns\n",
    "    \n",
    "    def get_action(self,state):\n",
    "        q_state= self.q_table[state]\n",
    "        action_greedy = np.argmax(q_state)\n",
    "        action_random = super().get_random_action(state)\n",
    "        return action_random if random.random() < self.eps else action_greedy\n",
    "    \n",
    "    def train(self, experience):\n",
    "        state, action, next_state, reward, done = experience\n",
    "        q_next = self.q_table[next_state]\n",
    "        q_next = np.zeros([self.action_size]) if done else q_next\n",
    "        q_target = reward + self.discount_rate * np.max(q_next)\n",
    "        q_update = q_target - self.q_table[state,action]\n",
    "        self.q_table[state,action] += self.learning_rate*q_update\n",
    "        #new_q = old_q + learning_rate*(learned value - old_q)\n",
    "        if done:\n",
    "            self.eps = self.eps*0.99\n",
    "agent = QAgent(env)"
   ]
  },
  {
   "cell_type": "code",
   "execution_count": 9,
   "metadata": {},
   "outputs": [
    {
     "name": "stdout",
     "output_type": "stream",
     "text": [
      "s: 15 a: 2\n",
      "Episode: 99, Total reward: 97.0, eps: 0.017950553275045134\n",
      "  (Right)\n",
      "SFFF\n",
      "FHFH\n",
      "FFFH\n",
      "HFF\u001b[41mG\u001b[0m\n",
      "[[4.82714312e-04 6.17349265e-05 3.73497174e-02 8.20783082e-05]\n",
      " [3.72034121e-04 2.44487082e-05 9.67766353e-02 6.42099760e-04]\n",
      " [1.06172318e-04 2.19670923e-01 2.09812483e-05 4.12148067e-04]\n",
      " [3.16227708e-04 4.43374669e-05 7.34923701e-05 9.04727185e-05]\n",
      " [6.80306509e-05 2.52738682e-05 3.10423641e-06 4.26597114e-05]\n",
      " [8.66396713e-06 1.12264212e-05 2.97729382e-05 8.11264117e-05]\n",
      " [3.38148140e-05 4.23478138e-01 5.52245123e-05 3.98014819e-04]\n",
      " [9.44875383e-05 1.95083053e-05 5.70656125e-05 9.24598366e-05]\n",
      " [4.56456041e-05 4.51921923e-05 3.48984802e-05 4.02808347e-05]\n",
      " [8.13269374e-06 2.90543010e-05 2.51395661e-05 6.26010990e-05]\n",
      " [7.13753565e-05 6.79971643e-01 2.67909497e-05 1.19426438e-02]\n",
      " [2.30445329e-05 9.17830291e-05 1.93496430e-05 2.37162361e-05]\n",
      " [5.63236019e-05 1.82585499e-05 7.87834316e-05 7.26613158e-05]\n",
      " [9.67451605e-06 7.33534101e-05 2.95443079e-02 2.77962266e-05]\n",
      " [5.63828048e-04 2.11184851e-02 9.12163356e-01 8.17027980e-03]\n",
      " [6.48241924e-06 3.62449107e-05 6.67789619e-05 8.79952181e-06]]\n"
     ]
    }
   ],
   "source": [
    "\n",
    "#agent = Agent(env)\n",
    "total_reward = 0\n",
    "for ep in range(100):\n",
    "    #i = 0\n",
    "    state = env.reset()\n",
    "    done = False\n",
    "    while not(done):\n",
    "        # i+=1\n",
    "       # action = env.action_space.sample()\n",
    "        action = agent.get_action(state)\n",
    "        next_state, reward, done, info = env.step(action)\n",
    "        agent.train((state,action,next_state,reward,done))\n",
    "        state = next_state\n",
    "        total_reward += reward\n",
    "        \n",
    "        print(\"s:\", state, \"a:\", action)\n",
    "        print(\"Episode: {}, Total reward: {}, eps: {}\".format(ep,total_reward,agent.eps))\n",
    "        env.render()\n",
    "        print(agent.q_table)\n",
    "        time.sleep(0.05)\n",
    "        clear_output(wait=True)"
   ]
  },
  {
   "cell_type": "code",
   "execution_count": 6,
   "metadata": {},
   "outputs": [
    {
     "data": {
      "text/plain": [
       "True"
      ]
     },
     "execution_count": 6,
     "metadata": {},
     "output_type": "execute_result"
    }
   ],
   "source": [
    "done"
   ]
  },
  {
   "cell_type": "code",
   "execution_count": null,
   "metadata": {},
   "outputs": [],
   "source": []
  }
 ],
 "metadata": {
  "kernelspec": {
   "display_name": "Python 3",
   "language": "python",
   "name": "python3"
  },
  "language_info": {
   "codemirror_mode": {
    "name": "ipython",
    "version": 3
   },
   "file_extension": ".py",
   "mimetype": "text/x-python",
   "name": "python",
   "nbconvert_exporter": "python",
   "pygments_lexer": "ipython3",
   "version": "3.7.3"
  }
 },
 "nbformat": 4,
 "nbformat_minor": 2
}
